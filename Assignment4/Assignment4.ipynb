{
 "cells": [
  {
   "cell_type": "code",
   "execution_count": 1,
   "id": "b6bda019",
   "metadata": {},
   "outputs": [
    {
     "name": "stderr",
     "output_type": "stream",
     "text": [
      "C:\\Users\\cdipt\\anaconda3\\lib\\site-packages\\numpy\\_distributor_init.py:30: UserWarning: loaded more than 1 DLL from .libs:\n",
      "C:\\Users\\cdipt\\anaconda3\\lib\\site-packages\\numpy\\.libs\\libopenblas.FB5AE2TYXYH2IJRDKGDGQ3XBKLKTF43H.gfortran-win_amd64.dll\n",
      "C:\\Users\\cdipt\\anaconda3\\lib\\site-packages\\numpy\\.libs\\libopenblas.PYQHXLVVQ7VESDPUVUADXEVJOBGHJPAY.gfortran-win_amd64.dll\n",
      "C:\\Users\\cdipt\\anaconda3\\lib\\site-packages\\numpy\\.libs\\libopenblas.WCDJNK7YVMPZQ2ME2ZZHJJRJ3JIKNDB7.gfortran-win_amd64.dll\n",
      "  warnings.warn(\"loaded more than 1 DLL from .libs:\"\n"
     ]
    }
   ],
   "source": [
    "import sys\n",
    "sys.path.append(\"../\")\n",
    "import library\n",
    "import math\n",
    "import matplotlib.pyplot as plt"
   ]
  },
  {
   "cell_type": "markdown",
   "id": "48c72003",
   "metadata": {},
   "source": [
    "### Question 1\n"
   ]
  },
  {
   "cell_type": "markdown",
   "id": "f3bc8b97",
   "metadata": {},
   "source": [
    "#### Bisection and RegulaFalsi"
   ]
  },
  {
   "cell_type": "code",
   "execution_count": 2,
   "id": "f6a51991",
   "metadata": {},
   "outputs": [],
   "source": [
    "def func1(x):\n",
    "    assert x>0, \"Not in domain\"\n",
    "    return math.log(x/2) - math.sin(5*x/2)"
   ]
  },
  {
   "cell_type": "code",
   "execution_count": 3,
   "id": "1f726ca3",
   "metadata": {},
   "outputs": [],
   "source": [
    "a,hist_a = library.root_finding.bisection.bisection(1.5,2.5,func1, shift=1,eps = 1e-6)\n",
    "b,hist_b= library.root_finding.RootByRegulaFalsi(1.5,2.5,func1, shift = 1,eps = 1e-6)"
   ]
  },
  {
   "cell_type": "code",
   "execution_count": 4,
   "id": "d25b9050",
   "metadata": {},
   "outputs": [
    {
     "name": "stdout",
     "output_type": "stream",
     "text": [
      "The number of steps it took for Bisection Method to converge 20\n",
      "The number of steps it took for the Regula Falsi to converge 7\n"
     ]
    }
   ],
   "source": [
    "print(\"The number of steps it took for Bisection Method to converge\",len(hist_a))\n",
    "print(\"The number of steps it took for the Regula Falsi to converge\",len(hist_b))"
   ]
  },
  {
   "cell_type": "code",
   "execution_count": 5,
   "id": "7de87a7b",
   "metadata": {},
   "outputs": [
    {
     "name": "stdout",
     "output_type": "stream",
     "text": [
      "The convergence history of Bisection method is as follows\n"
     ]
    },
    {
     "data": {
      "text/plain": [
       "[(2.5, 3.5),\n",
       " (2.5, 3.0),\n",
       " (2.5, 2.75),\n",
       " (2.5, 2.625),\n",
       " (2.5625, 2.625),\n",
       " (2.59375, 2.625),\n",
       " (2.609375, 2.625),\n",
       " (2.6171875, 2.625),\n",
       " (2.62109375, 2.625),\n",
       " (2.623046875, 2.625),\n",
       " (2.623046875, 2.6240234375),\n",
       " (2.623046875, 2.62353515625),\n",
       " (2.623046875, 2.623291015625),\n",
       " (2.623046875, 2.6231689453125),\n",
       " (2.62310791015625, 2.6231689453125),\n",
       " (2.623138427734375, 2.6231689453125),\n",
       " (2.623138427734375, 2.6231536865234375),\n",
       " (2.623138427734375, 2.6231460571289062),\n",
       " (2.623138427734375, 2.6231422424316406),\n",
       " (2.623140335083008, 2.6231422424316406)]"
      ]
     },
     "execution_count": 5,
     "metadata": {},
     "output_type": "execute_result"
    }
   ],
   "source": [
    "print(\"The convergence history of Bisection method is as follows\")\n",
    "hist_a"
   ]
  },
  {
   "cell_type": "code",
   "execution_count": 6,
   "id": "1e11f6f6",
   "metadata": {},
   "outputs": [
    {
     "name": "stdout",
     "output_type": "stream",
     "text": [
      "The convergence history of RegulaFalsi method is as follows\n"
     ]
    },
    {
     "data": {
      "text/plain": [
       "[(1.5, 3.12687384381433),\n",
       " (2.0522264951893727, 3.12687384381433),\n",
       " (2.0522264951893727, 2.728980807176287),\n",
       " (2.6088797405115285, 2.728980807176287),\n",
       " (2.6088797405115285, 2.6239232428017214),\n",
       " (2.6088797405115285, 2.6231443996647794),\n",
       " (2.6088797405115285, 2.623140356472426)]"
      ]
     },
     "execution_count": 6,
     "metadata": {},
     "output_type": "execute_result"
    }
   ],
   "source": [
    "print(\"The convergence history of RegulaFalsi method is as follows\")\n",
    "hist_b"
   ]
  },
  {
   "cell_type": "markdown",
   "id": "9edc1073",
   "metadata": {},
   "source": [
    "### Question 2"
   ]
  },
  {
   "cell_type": "markdown",
   "id": "57f20913",
   "metadata": {},
   "source": [
    "#### Bisection and Regula-falsi"
   ]
  },
  {
   "cell_type": "code",
   "execution_count": 7,
   "id": "1aa9b9c9",
   "metadata": {},
   "outputs": [],
   "source": [
    "def func2(x):\n",
    "    return -x-math.cos(x)\n",
    "def func2_p(x):\n",
    "    return -1+math.sin(x)"
   ]
  },
  {
   "cell_type": "code",
   "execution_count": 8,
   "id": "84ccb582",
   "metadata": {},
   "outputs": [],
   "source": [
    "a,hist_a = library.root_finding.bisection.bisection(0,1,func2, shift=1,eps = 1e-6)\n",
    "b,hist_b= library.root_finding.RootByRegulaFalsi(0,1,func2, shift = 1,eps = 1e-6)\n",
    "c = library.root_finding.RootByNewtonRalphson(0,func2,func2_p,eps=1e-6)"
   ]
  },
  {
   "cell_type": "code",
   "execution_count": 9,
   "id": "171bc541",
   "metadata": {},
   "outputs": [
    {
     "name": "stdout",
     "output_type": "stream",
     "text": [
      "The solution by Bisection is  -0.7390851974487305\n",
      "The solution by Regula Falsi is  -0.7390850630385933\n",
      "The solution by NewtonRalphson is  -0.7390851332151607\n"
     ]
    }
   ],
   "source": [
    "print(\"The solution by Bisection is \",a)\n",
    "print(\"The solution by Regula Falsi is \",b)\n",
    "print(\"The solution by NewtonRalphson is \",c)"
   ]
  },
  {
   "cell_type": "markdown",
   "id": "ca6c2dd8",
   "metadata": {},
   "source": [
    "### Question 3\n",
    "#### Laguerre's Method"
   ]
  },
  {
   "cell_type": "code",
   "execution_count": 10,
   "id": "171d2404",
   "metadata": {},
   "outputs": [
    {
     "name": "stdout",
     "output_type": "stream",
     "text": [
      "The roots obtained using the Laguerre Method is  [0.9999987374966942, -0.9999987322784819, 2.0000006299460242, -2.0000006351642368]\n"
     ]
    }
   ],
   "source": [
    "coeff = [1,0,-5,0,4]\n",
    "roots = library.root_finding.RootByLaguerre(0, coeff, eps=1e-5)\n",
    "print(\"The roots obtained using the Laguerre Method is \",roots)"
   ]
  },
  {
   "cell_type": "markdown",
   "id": "526ae29a",
   "metadata": {},
   "source": [
    "### Question 4\n",
    "#### Fitting"
   ]
  },
  {
   "cell_type": "code",
   "execution_count": 11,
   "id": "f49d2fe0",
   "metadata": {},
   "outputs": [],
   "source": [
    "data = library.io.read_sequential_data(\"./assign4fit.txt\",separator=\"\\t\")\n",
    "fit_coeff = library.fitting.poly_fit(data[0],data[1],order =3)"
   ]
  },
  {
   "cell_type": "code",
   "execution_count": 12,
   "id": "ca5f2ecb",
   "metadata": {},
   "outputs": [
    {
     "name": "stdout",
     "output_type": "stream",
     "text": [
      "The fit coefficients are [0.5746586674196168, 4.725861442141896, -11.12821777764321, 7.66867762290942]\n"
     ]
    }
   ],
   "source": [
    "print(\"The fit coefficients are\",fit_coeff)"
   ]
  }
 ],
 "metadata": {
  "kernelspec": {
   "display_name": "Python 3",
   "language": "python",
   "name": "python3"
  },
  "language_info": {
   "codemirror_mode": {
    "name": "ipython",
    "version": 3
   },
   "file_extension": ".py",
   "mimetype": "text/x-python",
   "name": "python",
   "nbconvert_exporter": "python",
   "pygments_lexer": "ipython3",
   "version": "3.8.8"
  }
 },
 "nbformat": 4,
 "nbformat_minor": 5
}
