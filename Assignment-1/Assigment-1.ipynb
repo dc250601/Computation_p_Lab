{
 "cells": [
  {
   "cell_type": "markdown",
   "id": "8f10d0dd",
   "metadata": {},
   "source": [
    "### Assignment-1. Warmup Exercise<br>\n",
    "#### Posted on 16.08.2022\n",
    "#### Due on 22.08.2022 midnight"
   ]
  },
  {
   "cell_type": "code",
   "execution_count": 1,
   "id": "fe917d94",
   "metadata": {},
   "outputs": [
    {
     "name": "stderr",
     "output_type": "stream",
     "text": [
      "C:\\Users\\cdipt\\anaconda3\\lib\\site-packages\\numpy\\_distributor_init.py:30: UserWarning: loaded more than 1 DLL from .libs:\n",
      "C:\\Users\\cdipt\\anaconda3\\lib\\site-packages\\numpy\\.libs\\libopenblas.FB5AE2TYXYH2IJRDKGDGQ3XBKLKTF43H.gfortran-win_amd64.dll\n",
      "C:\\Users\\cdipt\\anaconda3\\lib\\site-packages\\numpy\\.libs\\libopenblas.PYQHXLVVQ7VESDPUVUADXEVJOBGHJPAY.gfortran-win_amd64.dll\n",
      "C:\\Users\\cdipt\\anaconda3\\lib\\site-packages\\numpy\\.libs\\libopenblas.WCDJNK7YVMPZQ2ME2ZZHJJRJ3JIKNDB7.gfortran-win_amd64.dll\n",
      "  warnings.warn(\"loaded more than 1 DLL from .libs:\"\n"
     ]
    }
   ],
   "source": [
    "import numpy as np\n",
    "import matplotlib.pyplot as plt\n",
    "import os\n",
    "import sys\n",
    "import math"
   ]
  },
  {
   "cell_type": "markdown",
   "id": "5ac13e22",
   "metadata": {},
   "source": [
    "#### Question 1"
   ]
  },
  {
   "cell_type": "code",
   "execution_count": 2,
   "id": "fdf4f710",
   "metadata": {},
   "outputs": [],
   "source": [
    "def factorial(n):\n",
    "    fact = 1\n",
    "    for i in range(n):\n",
    "        fact = fact*(i+1)\n",
    "    return fact\n",
    "def sum(n):\n",
    "    sum = 0\n",
    "    for i in range(n):\n",
    "            sum = sum +2*(i)+1\n",
    "    return sum\n"
   ]
  },
  {
   "cell_type": "code",
   "execution_count": 3,
   "id": "53193249",
   "metadata": {},
   "outputs": [
    {
     "name": "stdout",
     "output_type": "stream",
     "text": [
      "Please enter the value of N for question no 1-->5\n",
      "Sum of of first N odd numbers no is 25\n",
      "Factorial of N is 120\n"
     ]
    }
   ],
   "source": [
    "N = int(input(\"Please enter the value of N for question no 1-->\"))\n",
    "print(f\"Sum of of first N odd numbers no is {sum(N)}\")\n",
    "print(f\"Factorial of N is {factorial(N)}\")"
   ]
  },
  {
   "cell_type": "markdown",
   "id": "e2ef8c60",
   "metadata": {},
   "source": [
    "#### Question 2"
   ]
  },
  {
   "cell_type": "code",
   "execution_count": 4,
   "id": "c45d087f",
   "metadata": {},
   "outputs": [],
   "source": [
    "class Series:\n",
    "    def __init__(self,initial_term,d,series_type):\n",
    "        self.initial_term = initial_term\n",
    "        self.d = d\n",
    "        self.series_type = series_type\n",
    "        assert series_type in (\"AP\",\"GP\",\"HP\"), \"Only AP,GP and HP is supported\"\n",
    "    \n",
    "    def term_n(self, n):\n",
    "        term = self.initial_term\n",
    "        assert n>=1, f\"For nth term value of n cannot be {n}\"\n",
    "        if self.series_type == 'AP':\n",
    "            for i in range(1,n):\n",
    "                term = term +self.d \n",
    "                \n",
    "        if self.series_type == \"GP\":\n",
    "            for i in range(1,n):\n",
    "                term = term*self.d \n",
    "    \n",
    "        if self.series_type == 'HP':\n",
    "            term = 1/term\n",
    "            for i in range(1,n):\n",
    "                term = term +self.d \n",
    "            term =  1/term\n",
    "        \n",
    "        return term\n",
    "    \n",
    "    def sum_n(self,n):\n",
    "        assert n>=1, f\"For sum of first n term value of n cannot be {n}\"\n",
    "        sum = 0\n",
    "        for i in range(1,n+1,1):\n",
    "            sum = sum + self.term_n(i)\n",
    "        return sum"
   ]
  },
  {
   "cell_type": "code",
   "execution_count": 5,
   "id": "5f75c80a",
   "metadata": {},
   "outputs": [
    {
     "name": "stdout",
     "output_type": "stream",
     "text": [
      "Please enter the value of N for question 2 -->5\n",
      "The sum of the ap for 5 terms is 20.0\n",
      "The sum of the gp for 5 terms is 1.9375\n",
      "The sum of the hp for 5 terms is 1.9746753246753246\n"
     ]
    }
   ],
   "source": [
    "N = int(input(\"Please enter the value of N for question 2 -->\"))\n",
    "d = 1.5 #Common Difference\n",
    "r = 0.5 #Common Ratio\n",
    "initial_term = 1\n",
    "ap = Series(initial_term=initial_term,\n",
    "            d=d,\n",
    "            series_type=\"AP\")\n",
    "gp = Series(initial_term=initial_term,\n",
    "            d=r,\n",
    "            series_type=\"GP\")\n",
    "hp = Series(initial_term=initial_term,\n",
    "            d=d,\n",
    "            series_type=\"HP\"\n",
    "           )\n",
    "print(f\"The sum of the ap for {N} terms is {ap.sum_n(N)}\")\n",
    "print(f\"The sum of the gp for {N} terms is {gp.sum_n(N)}\")\n",
    "print(f\"The sum of the hp for {N} terms is {hp.sum_n(N)}\")"
   ]
  },
  {
   "cell_type": "markdown",
   "id": "7615f47d",
   "metadata": {},
   "source": [
    "#### Question 3"
   ]
  },
  {
   "cell_type": "code",
   "execution_count": 6,
   "id": "0d04e1c5",
   "metadata": {},
   "outputs": [
    {
     "name": "stdout",
     "output_type": "stream",
     "text": [
      "Sum of the series up to four decimal places is 0.3333\n",
      "The number of terms to reach 4th digit precision is 14\n"
     ]
    }
   ],
   "source": [
    "def _series(n):\n",
    "    sum=0\n",
    "    assert n>0, \"Value of n cannot be {n}\"\n",
    "    for i in range(1,n+1,1):\n",
    "        term_i=((-1)**(i+1))/(2**i)\n",
    "        sum = sum+term_i\n",
    "    return sum\n",
    "\n",
    "i=1\n",
    "while (True):\n",
    "    i = i+1\n",
    "    delta = abs(_series(i)-_series(i-1))\n",
    "    if delta<1e-4:\n",
    "        print(f\"Sum of the series up to four decimal places is {_series(i):.4f}\")\n",
    "        print(f\"The number of terms to reach 4th digit precision is {i}\")\n",
    "        break\n"
   ]
  },
  {
   "cell_type": "code",
   "execution_count": 7,
   "id": "3d172113",
   "metadata": {},
   "outputs": [
    {
     "data": {
      "text/plain": [
       "[<matplotlib.lines.Line2D at 0x1cc104539a0>]"
      ]
     },
     "execution_count": 7,
     "metadata": {},
     "output_type": "execute_result"
    },
    {
     "data": {
      "image/png": "[encoded data removed]",
      "text/plain": [
       "<Figure size 864x432 with 1 Axes>"
      ]
     },
     "metadata": {
      "needs_background": "light"
     },
     "output_type": "display_data"
    }
   ],
   "source": [
    "y = []\n",
    "x=[]\n",
    "for i in range(1,21,1):\n",
    "    x.append(i)\n",
    "    y.append(_series(i))\n",
    "plt.figure(figsize=(12,6))\n",
    "plt.plot(x,y)"
   ]
  },
  {
   "cell_type": "markdown",
   "id": "af451bbe",
   "metadata": {},
   "source": [
    "#### Question 4\n"
   ]
  },
  {
   "cell_type": "code",
   "execution_count": 9,
   "id": "3d8ffa28",
   "metadata": {},
   "outputs": [],
   "source": [
    "a = [[2,-3,1.4],[2.5,1,-2],[-0.8,0,3.1]]\n",
    "b = [[0,-1,1],[1.5,0.5,-2],[3,0,-2]]\n",
    "c = [[-2],[0.5],[1.5]]\n",
    "d = [[1],[0],[-1]]"
   ]
  },
  {
   "cell_type": "code",
   "execution_count": 10,
   "id": "f844940c",
   "metadata": {},
   "outputs": [],
   "source": [
    "def get_row(a, row_num):\n",
    "    rows = len(a)\n",
    "    cols = len(a[0])\n",
    "    result = [None]*cols\n",
    "    for i in range(cols):\n",
    "        result[i] = a[row_num][i]\n",
    "    return result\n",
    "\n",
    "def get_column(a, col_num):\n",
    "    rows = len(a)\n",
    "    cols = len(a[0])\n",
    "    result = [None]*rows\n",
    "    for i in range(rows):\n",
    "        result[i] = a[i][col_num]\n",
    "    return result\n",
    "\n",
    "def dot(a,b):\n",
    "    assert len(a)==len(b), \"For dot product sizes should match\"\n",
    "#     assert type(a[0]) == type(b[0]) == int, \"Only one dimensional matrices supported\"\n",
    "    result = 0\n",
    "    for i in range(len(a)):\n",
    "        result = result + a[i]*b[i]\n",
    "    return result\n",
    "\n",
    "def mat_mul(a,b):\n",
    "    assert len(a[0]) == len(b), \"Row of the first matrix must be equal to the second matrix\"\n",
    "    row_a = len(a)\n",
    "    row_b = len(b)\n",
    "    colmn_a = len(a[0])\n",
    "    colmn_b = len(b[0])\n",
    "    result = []\n",
    "    \n",
    "    for i in range(row_a):\n",
    "        temp =[]\n",
    "        for j in range(colmn_b):\n",
    "            temp.append(dot(get_row(a,i),get_column(b,j)))\n",
    "        result.append(temp)\n",
    "    return result"
   ]
  },
  {
   "cell_type": "code",
   "execution_count": 11,
   "id": "2da8e2b6",
   "metadata": {},
   "outputs": [
    {
     "name": "stdout",
     "output_type": "stream",
     "text": [
      "For  Multiplication of matrices A and B\n",
      "[[-0.3000000000000007, -3.5, 5.2], [-4.5, -2.0, 4.5], [9.3, 0.8, -7.0]]\n"
     ]
    }
   ],
   "source": [
    "print(\"For  Multiplication of matrices A and B\")\n",
    "print(mat_mul(a,b))"
   ]
  },
  {
   "cell_type": "code",
   "execution_count": 23,
   "id": "827a10f8",
   "metadata": {},
   "outputs": [
    {
     "name": "stdout",
     "output_type": "stream",
     "text": [
      "For Dot Product of matrices D and C\n",
      "-2\n"
     ]
    }
   ],
   "source": [
    "#Diamensions dont match hence a assertion error has been thrown\n",
    "print(\"For Dot Product of matrices D and C\")\n",
    "_sum = 0\n",
    "for i in range(len(d[0])):\n",
    "    _sum = _sum+dot(d[i],c[i]) \n",
    "    print()\n",
    "print(_sum)"
   ]
  },
  {
   "cell_type": "code",
   "execution_count": 13,
   "id": "a85ca446",
   "metadata": {},
   "outputs": [
    {
     "name": "stdout",
     "output_type": "stream",
     "text": [
      "For  Multiplication of matrices B and C\n",
      "[[1.0], [-5.75], [-9.0]]\n"
     ]
    }
   ],
   "source": [
    "print(\"For  Multiplication of matrices B and C\")\n",
    "print(mat_mul(b,c))"
   ]
  },
  {
   "cell_type": "markdown",
   "id": "c7a4b1b4",
   "metadata": {},
   "source": [
    "#### Question 5"
   ]
  },
  {
   "cell_type": "code",
   "execution_count": 14,
   "id": "7e854282",
   "metadata": {},
   "outputs": [],
   "source": [
    "class MyComplex:\n",
    "    def __init__(self,real_part, imaginary_part):\n",
    "        self.x = real_part\n",
    "        self.y = imaginary_part\n",
    "        self.real_part = real_part\n",
    "        self.imaginary_part = imaginary_part\n",
    "    \n",
    "    def __str__(self):\n",
    "        if self.y>=0:\n",
    "            sgn = \"+\"\n",
    "        else:\n",
    "            sgn = \"-\"\n",
    "        return f'{self.x} {sgn} {abs(self.y)}i'\n",
    "    \n",
    "    def modulus(self):\n",
    "        return (self.x**2 + self.y**2)**0.5\n",
    "\n",
    "def com_sum(a,b):\n",
    "    return MyComplex((a.x+b.x),(a.y+b.y))\n",
    "\n",
    "def com_prod(a,b):\n",
    "    x = a.x*b.x - a.y*b.y\n",
    "    y = a.x*b.y + b.x*a.y\n",
    "    return MyComplex(x,y)"
   ]
  },
  {
   "cell_type": "code",
   "execution_count": 15,
   "id": "8b72841f",
   "metadata": {},
   "outputs": [
    {
     "name": "stdout",
     "output_type": "stream",
     "text": [
      "Sum of the complex numbers 3 - 2i and 1 + 2i is--->4 + 0i\n",
      "Product of the complex numbers 3 - 2i and 1 + 2i is--->7 + 4i\n",
      "Modulus of the complex number 3 - 2i is 3.605551275463989\n",
      "Modulus of the complex number 1 + 2i is 2.23606797749979\n"
     ]
    }
   ],
   "source": [
    "complex_number1 = MyComplex(3,-2)\n",
    "complex_number2 = MyComplex(1,2)\n",
    "_sum = com_sum(complex_number1,complex_number2)\n",
    "_product = com_prod(complex_number1,complex_number2)\n",
    "print(f\"Sum of the complex numbers {complex_number1} and {complex_number2} is--->{_sum}\")\n",
    "print(f\"Product of the complex numbers {complex_number1} and {complex_number2} is--->{_product}\")\n",
    "print(f\"Modulus of the complex number {complex_number1} is {complex_number1.modulus()}\")\n",
    "print(f\"Modulus of the complex number {complex_number2} is {complex_number2.modulus()}\")"
   ]
  }
 ],
 "metadata": {
  "kernelspec": {
   "display_name": "Python 3",
   "language": "python",
   "name": "python3"
  },
  "language_info": {
   "codemirror_mode": {
    "name": "ipython",
    "version": 3
   },
   "file_extension": ".py",
   "mimetype": "text/x-python",
   "name": "python",
   "nbconvert_exporter": "python",
   "pygments_lexer": "ipython3",
   "version": "3.8.8"
  }
 },
 "nbformat": 4,
 "nbformat_minor": 5
}
