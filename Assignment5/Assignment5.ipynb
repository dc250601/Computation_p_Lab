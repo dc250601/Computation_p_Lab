{
 "cells": [
  {
   "cell_type": "code",
   "execution_count": 26,
   "id": "2e6d6669",
   "metadata": {},
   "outputs": [],
   "source": [
    "import sys\n",
    "sys.path.append(\"../\")\n",
    "import library\n",
    "import matplotlib.pyplot as plt\n",
    "import math\n",
    "import tqdm\n",
    "%matplotlib inline"
   ]
  },
  {
   "cell_type": "markdown",
   "id": "88b8b4da",
   "metadata": {},
   "source": [
    "### Question 1 "
   ]
  },
  {
   "cell_type": "code",
   "execution_count": 2,
   "id": "d95934fb",
   "metadata": {},
   "outputs": [],
   "source": [
    "def func(x):\n",
    "    return math.sqrt(1+1/x)"
   ]
  },
  {
   "cell_type": "code",
   "execution_count": 3,
   "id": "716673fe",
   "metadata": {},
   "outputs": [
    {
     "name": "stdout",
     "output_type": "stream",
     "text": [
      "N     ||     Midpoint     ||    Trapezoidal   ||     Simpson      ||\n",
      "----------------------------------------------------------------------\n",
      "10    ||    3.61897889    ||    3.62260838    ||    3.62024817    ||    \n",
      "----------------------------------------------------------------------\n",
      "20    ||    3.61988003    ||    3.62079364    ||    3.62018872    ||    \n",
      "----------------------------------------------------------------------\n",
      "30    ||    3.62004881    ||    3.62045539    ||    3.62018518    ||    \n",
      "----------------------------------------------------------------------\n"
     ]
    }
   ],
   "source": [
    "runs =[10,20,30]\n",
    "Lower_bound = 1\n",
    "Upper_bound = 4\n",
    "print(\"N     ||     Midpoint     ||    Trapezoidal   ||     Simpson      ||\")\n",
    "print(\"-\"*70,end=\"\")\n",
    "print()\n",
    "for run_ in runs:\n",
    "    print(run_, end=\"    ||    \")\n",
    "    print(format(library.integrate(func, run_, Lower_bound, Upper_bound, mode = \"midpoint\"),\"0.8f\"),end=\"    ||    \")\n",
    "    print(format(library.integrate(func, run_, Lower_bound, Upper_bound, mode = \"trapezoidal\"),\"0.8f\"),end=\"    ||    \")\n",
    "    print(format(library.integrate(func, run_, Lower_bound, Upper_bound, mode = \"simpson\"),\"0.8f\"),end=\"    ||    \")\n",
    "    print()\n",
    "    print(\"-\"*70,end=\"\")\n",
    "    print()"
   ]
  },
  {
   "cell_type": "markdown",
   "id": "9da1b816",
   "metadata": {},
   "source": [
    "### Question 2 "
   ]
  },
  {
   "cell_type": "code",
   "execution_count": 4,
   "id": "4d7a5d7b",
   "metadata": {},
   "outputs": [],
   "source": [
    "def func(x):\n",
    "    return math.sin(x)**2"
   ]
  },
  {
   "cell_type": "code",
   "execution_count": 7,
   "id": "f8b79453",
   "metadata": {},
   "outputs": [
    {
     "name": "stderr",
     "output_type": "stream",
     "text": [
      "100%|██████████████████████████████████████████████████████████████████████████████| 1000/1000 [01:15<00:00, 13.24it/s]\n"
     ]
    }
   ],
   "source": [
    "ans = []\n",
    "unct = []\n",
    "x = []\n",
    "Lower_bound = -1\n",
    "Upper_bound = 1\n",
    "limit = (Lower_bound,Upper_bound)\n",
    "for i in tqdm.tqdm(range(10,100000,100)):\n",
    "    x.append(i)\n",
    "    a,b = library.integration.monte_carlo_integration(i,limit,func)\n",
    "    ans.append(a)\n",
    "    unct.append(b)"
   ]
  },
  {
   "cell_type": "code",
   "execution_count": 49,
   "id": "04fb0940",
   "metadata": {},
   "outputs": [
    {
     "data": {
      "image/png": "[encoded data removed]",
      "text/plain": [
       "<Figure size 864x864 with 2 Axes>"
      ]
     },
     "metadata": {
      "needs_background": "light"
     },
     "output_type": "display_data"
    }
   ],
   "source": [
    "fig,axs = plt.subplots(2,1, figsize= (12,12))\n",
    "axs[0].plot(x,ans, label = \"Integration Solution\", c = \"black\")\n",
    "axs[1].plot(x,unct, label = \"Delta squared\" ,c = \"green\")\n",
    "axs[0].legend()\n",
    "axs[1].legend()\n",
    "plt.show()"
   ]
  },
  {
   "cell_type": "code",
   "execution_count": 50,
   "id": "67c13b9c",
   "metadata": {},
   "outputs": [
    {
     "name": "stdout",
     "output_type": "stream",
     "text": [
      "The integration value for the max iteration(99910 iterations) 0.5517878096728243\n",
      "The mean integration value 0.5502276682431023\n",
      "The integration value with the lowest delta^2 (0.04660994520065269) value 0.551801203140656\n"
     ]
    }
   ],
   "source": [
    "def best(x):\n",
    "    for i in range(len(x)):\n",
    "        if x[i]==min(x):\n",
    "            return i\n",
    "# Now we have estmiated the solution for a bunch of different iteration values\n",
    "print(f\"The integration value for the max iteration({x[-1]} iterations)\", ans[-1])\n",
    "print(f\"The mean integration value\", sum(ans)/len(x))\n",
    "print(f\"The integration value with the lowest delta^2 ({min(unct)}) value\", ans[best(unct)])"
   ]
  },
  {
   "cell_type": "markdown",
   "id": "32c70638",
   "metadata": {},
   "source": [
    "### Question 3"
   ]
  },
  {
   "cell_type": "code",
   "execution_count": 55,
   "id": "5b7f8495",
   "metadata": {},
   "outputs": [],
   "source": [
    "# If we have a beam of mass density lambda, and length of 2m \n",
    "# Then mass of the beam is\n",
    "def mass_density(x):\n",
    "    return x**2\n",
    "def integrand2(x):\n",
    "    return mass_density(x)*x\n",
    "Lower_bound = 0\n",
    "Upper_bound = 2\n",
    "m = library.integrate(mass_density, 10, Lower_bound,Upper_bound, mode = \"midpoint\")\n",
    "x_cm = library.integrate(integrand2, 10, Lower_bound,Upper_bound, mode = \"midpoint\")/m"
   ]
  },
  {
   "cell_type": "code",
   "execution_count": 56,
   "id": "d963b6ab",
   "metadata": {},
   "outputs": [
    {
     "data": {
      "text/plain": [
       "1.4962406015037595"
      ]
     },
     "execution_count": 56,
     "metadata": {},
     "output_type": "execute_result"
    }
   ],
   "source": [
    "x_cm"
   ]
  }
 ],
 "metadata": {
  "kernelspec": {
   "display_name": "Python 3",
   "language": "python",
   "name": "python3"
  },
  "language_info": {
   "codemirror_mode": {
    "name": "ipython",
    "version": 3
   },
   "file_extension": ".py",
   "mimetype": "text/x-python",
   "name": "python",
   "nbconvert_exporter": "python",
   "pygments_lexer": "ipython3",
   "version": "3.8.8"
  }
 },
 "nbformat": 4,
 "nbformat_minor": 5
}
