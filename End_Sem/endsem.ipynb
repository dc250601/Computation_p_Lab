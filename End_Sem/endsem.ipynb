{
 "cells": [
  {
   "cell_type": "code",
   "execution_count": 2,
   "id": "e568d1e8",
   "metadata": {},
   "outputs": [],
   "source": [
    "import sys\n",
    "sys.path.append(\"../\")\n",
    "import os\n",
    "import matplotlib.pyplot as plt\n",
    "import math\n",
    "import library"
   ]
  },
  {
   "cell_type": "markdown",
   "id": "dbebbc3f",
   "metadata": {},
   "source": [
    "# Question 1"
   ]
  },
  {
   "cell_type": "code",
   "execution_count": 3,
   "id": "d9f7db45",
   "metadata": {},
   "outputs": [],
   "source": [
    "matrix,_ = library.io.reader(\"./input1.txt\")\n",
    "matrix = library.matrix.matrix(matrix)"
   ]
  },
  {
   "cell_type": "code",
   "execution_count": 4,
   "id": "e65af4f2",
   "metadata": {},
   "outputs": [
    {
     "name": "stdout",
     "output_type": "stream",
     "text": [
      " 0.2\t-5.0\t 3.0\t 0.4\t 0.0\t\n",
      "-0.5\t 1.0\t 7.0\t-2.0\t 0.3\t\n",
      " 0.6\t 2.0\t-4.0\t 3.0\t 0.1\t\n",
      " 3.0\t 0.8\t 2.0\t-0.4\t 3.0\t\n",
      " 0.5\t 3.0\t 2.0\t 0.4\t 1.0\t\n",
      "\n"
     ]
    }
   ],
   "source": [
    "print(matrix)"
   ]
  },
  {
   "cell_type": "code",
   "execution_count": 5,
   "id": "9ced55c6",
   "metadata": {},
   "outputs": [],
   "source": [
    "matrix = library.linear.lu_decomposition.inverter(matrix)"
   ]
  },
  {
   "cell_type": "code",
   "execution_count": 25,
   "id": "d026e254",
   "metadata": {},
   "outputs": [
    {
     "name": "stdout",
     "output_type": "stream",
     "text": [
      "The inverted matrix is \n",
      "-0.707949147806648\t 2.5314333612741007\t 2.4311958647666927\t 0.9665758591785413\t-3.9022771723945238\t\n",
      "-0.19343159169227891\t 0.31014249790444265\t 0.27946586569805326\t 0.0577151438949427\t-0.2941347676259662\t\n",
      " 0.021689019279128384\t 0.3654652137468567\t 0.2861483654652136\t 0.05055532271584239\t-0.2899203688181055\t\n",
      " 0.27341203315637475\t-0.12992455993294275\t 0.13161264785321758\t-0.14101355127130483\t 0.44885675700847544\t\n",
      " 0.7815264971593533\t-2.875104777870915\t-2.678937319549222\t-0.7011385861972617\t 4.233840923907981\t\n",
      "\n"
     ]
    }
   ],
   "source": [
    "print(\"The inverted matrix is \")\n",
    "print(matrix)"
   ]
  },
  {
   "cell_type": "markdown",
   "id": "2e160594",
   "metadata": {},
   "source": [
    "# Question 2"
   ]
  },
  {
   "cell_type": "code",
   "execution_count": 7,
   "id": "c0adef1e",
   "metadata": {},
   "outputs": [],
   "source": [
    "import numpy as np\n",
    "def diffusion(N, dt, t0, tn):\n",
    "    nl = N \n",
    "    nr = 0\n",
    "    N_l = [nl]\n",
    "    N_r = [0]\n",
    "    t = [0]\n",
    "    ti = 0\n",
    "    rand = library.random.LGC(repeat=False)[-1]\n",
    "    steps = int((tn-t0)/dt)\n",
    "    for i in range(steps):\n",
    "        check = nl/N\n",
    "        for j in range(N):\n",
    "            rand = library.random.LGC(x0 = rand)[0]\n",
    "            if rand <= check:\n",
    "                nl-=1\n",
    "                nr+=1\n",
    "                break\n",
    "            else:\n",
    "                nl+= 1\n",
    "                nr-= 1\n",
    "                break\n",
    "        ti = ti+dt\n",
    "        N_l.append(nl)\n",
    "        N_r.append(nr)\n",
    "        t.append(ti)\n",
    "    plt.xlabel(\"Time\")\n",
    "    plt.ylabel(\"Number of Particles\")\n",
    "    plt.scatter(t,N_l,label=\"Left Particle\",s=1.5)\n",
    "    plt.scatter(t,N_r,label=\"Right Particle\",s=1.5)\n",
    "    plt.legend()\n",
    "#     plt.savefig(\"output_Question2.pdf\")\n",
    "    return N_l, N_r, t"
   ]
  },
  {
   "cell_type": "code",
   "execution_count": 8,
   "id": "4f23c873",
   "metadata": {},
   "outputs": [
    {
     "data": {
      "image/png": "[encoded data removed]",
      "text/plain": [
       "<Figure size 432x288 with 1 Axes>"
      ]
     },
     "metadata": {
      "needs_background": "light"
     },
     "output_type": "display_data"
    }
   ],
   "source": [
    "l,r,t = diffusion(5000,0.1,0,1000)"
   ]
  },
  {
   "cell_type": "markdown",
   "id": "2a6021ac",
   "metadata": {},
   "source": [
    "# Question3"
   ]
  },
  {
   "cell_type": "code",
   "execution_count": 9,
   "id": "ccb9bf56",
   "metadata": {},
   "outputs": [],
   "source": [
    "F = 2.5\n",
    "def force(x):\n",
    "    return 2.5 - x*math.exp(x)\n",
    "def force_p(x):\n",
    "    return -math.exp(x) - x*math.exp(x)"
   ]
  },
  {
   "cell_type": "code",
   "execution_count": 10,
   "id": "e7820ec2",
   "metadata": {},
   "outputs": [
    {
     "name": "stdout",
     "output_type": "stream",
     "text": [
      "The maximum stretch in the spring is 0.958586356728703 meter\n"
     ]
    }
   ],
   "source": [
    "root = library.root_finding.RootByNewtonRalphson(guess= 0,func=force,func_p=force_p, eps=1e-6)\n",
    "print(f\"The maximum stretch in the spring is {root} meter\")"
   ]
  },
  {
   "cell_type": "markdown",
   "id": "6e884557",
   "metadata": {},
   "source": [
    "# Question 4"
   ]
  },
  {
   "cell_type": "code",
   "execution_count": 11,
   "id": "264b9d0b",
   "metadata": {},
   "outputs": [
    {
     "name": "stdout",
     "output_type": "stream",
     "text": [
      "The time period is  2.087320017479592\n"
     ]
    }
   ],
   "source": [
    "L = 1\n",
    "theta_m = math.pi/4\n",
    "a = math.sin(theta_m/2)\n",
    "N = 10\n",
    "g = 9.8\n",
    "Lower_bound = 0\n",
    "Upper_bound = math.pi/2\n",
    "def func(phi):\n",
    "    val = math.sqrt(1-(a**2)*math.sin(phi)**2)\n",
    "    val = 1/val\n",
    "    return val\n",
    "T = 4*math.sqrt(L/g)*library.integrate(func, N, Lower_bound, Upper_bound, mode = \"simpson\")\n",
    "print(\"The time period is \",T)"
   ]
  },
  {
   "cell_type": "markdown",
   "id": "5bf19021",
   "metadata": {},
   "source": [
    "# Question 5 "
   ]
  },
  {
   "cell_type": "code",
   "execution_count": 12,
   "id": "37e86c4c",
   "metadata": {},
   "outputs": [],
   "source": [
    "#First we will try to find the maximum height achieved by the particle without air resistance\n",
    "#s_max_no_air_resistance = u^2/(2a)\n",
    "#setting y_max to s_max_no_air_resistance\n",
    "g = 10\n",
    "y0 =0\n",
    "v0 = 10\n",
    "gamma = 0.02\n",
    "u = 10\n",
    "y_max = u**2/(2*g)\n",
    "t0 = 0\n",
    "tn = 1.5"
   ]
  },
  {
   "cell_type": "code",
   "execution_count": 13,
   "id": "ca1b7aae",
   "metadata": {},
   "outputs": [
    {
     "name": "stdout",
     "output_type": "stream",
     "text": [
      "The maximum height without resitance is 5.0\n"
     ]
    }
   ],
   "source": [
    "print(\"The maximum height without resitance is\",y_max)"
   ]
  },
  {
   "cell_type": "code",
   "execution_count": 14,
   "id": "f0132573",
   "metadata": {},
   "outputs": [],
   "source": [
    "def dvdt(x,v,t):\n",
    "    return  -gamma*v-g\n",
    "def dxdt(v,t):\n",
    "    return v"
   ]
  },
  {
   "cell_type": "code",
   "execution_count": 15,
   "id": "2b18500f",
   "metadata": {},
   "outputs": [],
   "source": [
    "y,v,t =library.differential_equation.Solution_Runge_Kutta_4(dxdt=dxdt,dvdt=dvdt,init_value=(0,10), range_=(0,tn), h=0.01)"
   ]
  },
  {
   "cell_type": "code",
   "execution_count": 16,
   "id": "2bb8f357",
   "metadata": {},
   "outputs": [
    {
     "name": "stdout",
     "output_type": "stream",
     "text": [
      "The maximum height with resitance 4.933825808845075\n"
     ]
    },
    {
     "data": {
      "image/png": "[encoded data removed]",
      "text/plain": [
       "<Figure size 432x288 with 1 Axes>"
      ]
     },
     "metadata": {
      "needs_background": "light"
     },
     "output_type": "display_data"
    }
   ],
   "source": [
    "plt.scatter(t,y)\n",
    "plt.xlabel(\"Time elapsed\")\n",
    "plt.ylabel(\"Height\")\n",
    "print(\"The maximum height with resitance\",max(y))"
   ]
  },
  {
   "cell_type": "code",
   "execution_count": 17,
   "id": "1d5693ae",
   "metadata": {},
   "outputs": [
    {
     "name": "stdout",
     "output_type": "stream",
     "text": [
      "The maximum height with resitance 4.933825808845075\n"
     ]
    },
    {
     "data": {
      "image/png": "[encoded data removed]",
      "text/plain": [
       "<Figure size 432x288 with 1 Axes>"
      ]
     },
     "metadata": {
      "needs_background": "light"
     },
     "output_type": "display_data"
    }
   ],
   "source": [
    "plt.scatter(v,y)\n",
    "plt.xlabel(\"Velocity\")\n",
    "plt.ylabel(\"Height\")\n",
    "print(\"The maximum height with resitance\",max(y))"
   ]
  },
  {
   "cell_type": "markdown",
   "id": "8252b48b",
   "metadata": {},
   "source": [
    "# Question 6"
   ]
  },
  {
   "cell_type": "code",
   "execution_count": 18,
   "id": "84115cb8",
   "metadata": {},
   "outputs": [],
   "source": [
    "a,_ = library.io.reader(\"./input6.txt\")\n",
    "a = library.matrix.matrix(a)"
   ]
  },
  {
   "cell_type": "code",
   "execution_count": 19,
   "id": "71daad05",
   "metadata": {},
   "outputs": [
    {
     "name": "stdout",
     "output_type": "stream",
     "text": [
      " 1.0\t-2.0\t 0.0\t 5.0\t\n",
      " 0.0\t 7.0\t 1.0\t 5.0\t\n",
      " 0.0\t 4.0\t 4.0\t 0.0\t\n",
      " 0.0\t 0.0\t 0.0\t 2.0\t\n",
      "\n"
     ]
    }
   ],
   "source": [
    "print(a)"
   ]
  },
  {
   "cell_type": "code",
   "execution_count": 20,
   "id": "ad29d4e3",
   "metadata": {},
   "outputs": [],
   "source": [
    "guess = library.matrix.matrix([[1],[2],[3],[4]])\n",
    "eigen_vector,eigen_value,iterations = library.Eigen_Value_Power_Iteration(guess=guess,matrix = a,eps = 1e-3,MAX_ITER = 10000)"
   ]
  },
  {
   "cell_type": "code",
   "execution_count": 21,
   "id": "cda9627a",
   "metadata": {},
   "outputs": [
    {
     "name": "stdout",
     "output_type": "stream",
     "text": [
      "The eigen value is  8.000482069471927\n",
      "The eigen vector is\n",
      " -0.1980437093255736\t\n",
      " 0.6931288137206476\t\n",
      " 0.693073687847661\t\n",
      " 1.3582370949350447e-07\t\n",
      "\n",
      "The number of iterations 10\n"
     ]
    }
   ],
   "source": [
    "print(\"The eigen value is \",eigen_value)\n",
    "print(\"The eigen vector is\\n\",eigen_vector)\n",
    "print(\"The number of iterations\",iterations)"
   ]
  },
  {
   "cell_type": "markdown",
   "id": "6d208fb7",
   "metadata": {},
   "source": [
    "# Question 7"
   ]
  },
  {
   "cell_type": "code",
   "execution_count": 22,
   "id": "11431294",
   "metadata": {},
   "outputs": [],
   "source": [
    "x,y = library.io.read_sequential_data(\"./esem4fit.txt\", separator=\"\\t\")"
   ]
  },
  {
   "cell_type": "code",
   "execution_count": 23,
   "id": "c0074307",
   "metadata": {},
   "outputs": [
    {
     "data": {
      "image/png": "[encoded data removed]",
      "text/plain": [
       "<Figure size 864x432 with 1 Axes>"
      ]
     },
     "metadata": {
      "needs_background": "light"
     },
     "output_type": "display_data"
    }
   ],
   "source": [
    "plt.figure(figsize=(12,6))\n",
    "plt.scatter(x,y)\n",
    "coeff = library.fitting.poly_fit(x,y,order=4)\n",
    "plt.xlabel(\"X\")\n",
    "plt.ylabel(\"Y\")\n",
    "plt.show()"
   ]
  },
  {
   "cell_type": "code",
   "execution_count": 24,
   "id": "e9e4220f",
   "metadata": {},
   "outputs": [
    {
     "name": "stdout",
     "output_type": "stream",
     "text": [
      "The coefficients of the fit for x^0 is  0.2546295072115481\n",
      "The coefficients of the fit for x^1 is  -1.1937592138092286\n",
      "The coefficients of the fit for x^2 is  -0.4572554123829692\n",
      "The coefficients of the fit for x^3 is  -0.8025653910658183\n",
      "The coefficients of the fit for x^4 is  0.013239427477396606\n"
     ]
    },
    {
     "data": {
      "text/plain": [
       "Text(0, 0.5, 'Y')"
      ]
     },
     "execution_count": 24,
     "metadata": {},
     "output_type": "execute_result"
    },
    {
     "data": {
      "image/png": "[encoded data removed]",
      "text/plain": [
       "<Figure size 864x432 with 1 Axes>"
      ]
     },
     "metadata": {
      "needs_background": "light"
     },
     "output_type": "display_data"
    }
   ],
   "source": [
    "y_hat =[]\n",
    "for x_ in x:\n",
    "    y_hat.append((coeff[0]+\n",
    "                  (x_**1)*coeff[1]+\n",
    "                 (x_**2)*coeff[2]+\n",
    "                 (x_**3)*coeff[3]+\n",
    "                 (x_**4)*coeff[4]))\n",
    "plt.figure(figsize=(12,6))\n",
    "plt.plot(x,y_hat,label=\"Data\")\n",
    "plt.scatter(x,y, label=\"fit\",c=\"red\")\n",
    "for i in range(len(coeff)):\n",
    "    print(f\"The coefficients of the fit for x^{i} is \",coeff[i])\n",
    "plt.legend()\n",
    "plt.xlabel(\"X\")\n",
    "plt.ylabel(\"Y\")"
   ]
  },
  {
   "cell_type": "code",
   "execution_count": null,
   "id": "69c96424",
   "metadata": {},
   "outputs": [],
   "source": []
  }
 ],
 "metadata": {
  "kernelspec": {
   "display_name": "Python 3",
   "language": "python",
   "name": "python3"
  },
  "language_info": {
   "codemirror_mode": {
    "name": "ipython",
    "version": 3
   },
   "file_extension": ".py",
   "mimetype": "text/x-python",
   "name": "python",
   "nbconvert_exporter": "python",
   "pygments_lexer": "ipython3",
   "version": "3.8.8"
  },
  "vscode": {
   "interpreter": {
    "hash": "a451ac2f6474dd9b0a30794b989a06fd287e54d8f56584134d8b3bcabcab9c76"
   }
  }
 },
 "nbformat": 4,
 "nbformat_minor": 5
}
