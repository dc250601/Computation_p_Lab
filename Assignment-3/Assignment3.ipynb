{
 "cells": [
  {
   "cell_type": "code",
   "execution_count": 1,
   "id": "59118682",
   "metadata": {},
   "outputs": [],
   "source": [
    "import sys\n",
    "sys.path.append(\"../\")\n",
    "import library"
   ]
  },
  {
   "cell_type": "markdown",
   "id": "6b5e1b91",
   "metadata": {},
   "source": [
    "### Question 1\n",
    "#### Gauss-Jordon and LU-decomposition"
   ]
  },
  {
   "cell_type": "code",
   "execution_count": 2,
   "id": "0df4009d",
   "metadata": {},
   "outputs": [],
   "source": [
    "matrix,vector = library.io.reader(\"./input1.txt\")\n",
    "matrix = library.matrix.matrix(matrix)"
   ]
  },
  {
   "cell_type": "code",
   "execution_count": 3,
   "id": "73dc7c74",
   "metadata": {},
   "outputs": [
    {
     "name": "stdout",
     "output_type": "stream",
     "text": [
      " 1.0\t-1.0\t 4.0\t 0.0\t 2.0\t 9.0\t\n",
      " 0.0\t 5.0\t-2.0\t 7.0\t 8.0\t 4.0\t\n",
      " 1.0\t 0.0\t 5.0\t 7.0\t 3.0\t-2.0\t\n",
      " 6.0\t-1.0\t 2.0\t 3.0\t 0.0\t 8.0\t\n",
      "-4.0\t 2.0\t 0.0\t 5.0\t-5.0\t 3.0\t\n",
      " 0.0\t 7.0\t-1.0\t 5.0\t 4.0\t-2.0\t\n",
      "\n",
      "[19.0, 2.0, 13.0, -7.0, -9.0, 2.0]\n"
     ]
    }
   ],
   "source": [
    "print(matrix)\n",
    "print(vector)"
   ]
  },
  {
   "cell_type": "code",
   "execution_count": 4,
   "id": "46db0bb6",
   "metadata": {},
   "outputs": [
    {
     "name": "stdout",
     "output_type": "stream",
     "text": [
      "[-1.7618170439978567, 0.8962280338740136, 4.051931404116157, -1.6171308025395428, 2.041913538501914, 0.15183248715593495]\n"
     ]
    }
   ],
   "source": [
    "# Solving with Gauss-Jordon\n",
    "x,y = library.linear.gauss_jordan(matrix,vector)\n",
    "print(y)"
   ]
  },
  {
   "cell_type": "code",
   "execution_count": 5,
   "id": "b676b2b6",
   "metadata": {},
   "outputs": [
    {
     "name": "stdout",
     "output_type": "stream",
     "text": [
      "[-1.7618170439978567, 0.8962280338740136, 4.051931404116157, -1.6171308025395428, 2.041913538501914, 0.15183248715593495]\n"
     ]
    }
   ],
   "source": [
    "# Solving with LU-decomposition\n",
    "x,y = library.linear.lu_solver(matrix,vector)\n",
    "print(y)"
   ]
  },
  {
   "cell_type": "markdown",
   "id": "47767cfe",
   "metadata": {},
   "source": [
    "### Question 2\n",
    "#### Gauss-Seidel and Cholesky"
   ]
  },
  {
   "cell_type": "code",
   "execution_count": 6,
   "id": "551e71a4",
   "metadata": {},
   "outputs": [],
   "source": [
    "matrix,vector = library.io.reader(\"./input2.txt\")\n",
    "vector = list(map(lambda x: [x], vector))\n",
    "matrix = library.matrix.matrix(matrix)\n",
    "vector = library.matrix.matrix(vector)"
   ]
  },
  {
   "cell_type": "code",
   "execution_count": 7,
   "id": "8bb92fef",
   "metadata": {},
   "outputs": [
    {
     "name": "stdout",
     "output_type": "stream",
     "text": [
      " 4.0\t-1.0\t 0.0\t-1.0\t 0.0\t 0.0\t\n",
      "-1.0\t 4.0\t-1.0\t 0.0\t-1.0\t 0.0\t\n",
      " 0.0\t-1.0\t 4.0\t 0.0\t 0.0\t-1.0\t\n",
      "-1.0\t 0.0\t 0.0\t 4.0\t-1.0\t 0.0\t\n",
      " 0.0\t-1.0\t 0.0\t-1.0\t 4.0\t-1.0\t\n",
      " 0.0\t 0.0\t-1.0\t 0.0\t-1.0\t 4.0\t\n",
      "\n",
      " 2.0\t\n",
      " 1.0\t\n",
      " 2.0\t\n",
      " 2.0\t\n",
      " 1.0\t\n",
      " 2.0\t\n",
      "\n"
     ]
    }
   ],
   "source": [
    "print(matrix)\n",
    "print(vector)"
   ]
  },
  {
   "cell_type": "code",
   "execution_count": 8,
   "id": "a27fefb3",
   "metadata": {},
   "outputs": [
    {
     "name": "stdout",
     "output_type": "stream",
     "text": [
      "The solution is \n",
      " 0.9999999100460266\t\n",
      " 0.999999923219481\t\n",
      " 0.9999999672318638\t\n",
      " 0.9999999457079743\t\n",
      " 0.9999999536588574\t\n",
      " 0.9999999802226803\t\n",
      "\n"
     ]
    }
   ],
   "source": [
    "# Solving with Gauss Seidel\n",
    "x = library.linear.gauss_seidel(matrix,vector,G=[0,0,0,0,0,0],precision=1e-6 )\n",
    "print(\"The solution is \")\n",
    "print(x)"
   ]
  },
  {
   "cell_type": "code",
   "execution_count": 9,
   "id": "49c8e75f",
   "metadata": {},
   "outputs": [
    {
     "name": "stdout",
     "output_type": "stream",
     "text": [
      "The matrix is symmetric: True\n",
      "Solution-\n",
      "[1.0, 1.0, 1.0, 0.9999999999999999, 1.0, 1.0]\n"
     ]
    }
   ],
   "source": [
    "#Checking for symmetric matrix\n",
    "print(\"The matrix is symmetric:\",library.linear.cholesky.is_symmetric(matrix))\n",
    "#solving using LU_decomposition\n",
    "vector = list(map(lambda x: x[0], vector.matrix))\n",
    "x,y = library.linear.lu_solver(matrix,vector)\n",
    "print(\"Solution-\")\n",
    "print(x)"
   ]
  },
  {
   "cell_type": "markdown",
   "id": "46ab3c60",
   "metadata": {},
   "source": [
    "### Question 3\n",
    "#### Gauss-Seidel, Gauss-Jacobi and LU_Decomposition"
   ]
  },
  {
   "cell_type": "code",
   "execution_count": 10,
   "id": "1a6ab2f3",
   "metadata": {},
   "outputs": [
    {
     "name": "stdout",
     "output_type": "stream",
     "text": [
      " 4.0\t 0.0\t 4.0\t 10.0\t 1.0\t\n",
      " 0.0\t 4.0\t 2.0\t 0.0\t 1.0\t\n",
      " 2.0\t 5.0\t 1.0\t 3.0\t 13.0\t\n",
      " 11.0\t 3.0\t 0.0\t 1.0\t 2.0\t\n",
      " 3.0\t 2.0\t 7.0\t 1.0\t 0.0\t\n",
      "\n",
      " 20.0\t\n",
      " 15.0\t\n",
      " 92.0\t\n",
      " 51.0\t\n",
      " 15.0\t\n",
      "\n"
     ]
    }
   ],
   "source": [
    "matrix,vector = library.io.reader(\"./input3.txt\")\n",
    "vector = list(map(lambda x: [x], vector))\n",
    "vector = library.matrix.matrix(vector)\n",
    "matrix = library.matrix.matrix(matrix)\n",
    "print(matrix)\n",
    "print(vector)"
   ]
  },
  {
   "cell_type": "code",
   "execution_count": 11,
   "id": "62a3c9d9",
   "metadata": {},
   "outputs": [
    {
     "name": "stdout",
     "output_type": "stream",
     "text": [
      " 11.0\t 3.0\t 0.0\t 1.0\t 2.0\t\n",
      " 0.0\t 4.0\t 2.0\t 0.0\t 1.0\t\n",
      " 3.0\t 2.0\t 7.0\t 1.0\t 0.0\t\n",
      " 4.0\t 0.0\t 4.0\t 10.0\t 1.0\t\n",
      " 2.0\t 5.0\t 1.0\t 3.0\t 13.0\t\n",
      "\n",
      " 51.0\t\n",
      " 15.0\t\n",
      " 15.0\t\n",
      " 20.0\t\n",
      " 92.0\t\n",
      "\n"
     ]
    }
   ],
   "source": [
    "#Making the matrix diagonally dominant\n",
    "library.linear.diag_dom(matrix,vector)\n",
    "print(matrix)\n",
    "print(vector)"
   ]
  },
  {
   "cell_type": "code",
   "execution_count": 12,
   "id": "88d07cf9",
   "metadata": {},
   "outputs": [
    {
     "name": "stdout",
     "output_type": "stream",
     "text": [
      "The solution is \n",
      " 2.979165115896096\t\n",
      " 2.2155996508719795\t\n",
      " 0.21128403016992717\t\n",
      " 0.1523169909758167\t\n",
      " 5.715033577750041\t\n",
      "\n"
     ]
    }
   ],
   "source": [
    "# Gauss Seidel Method\n",
    "x = library.linear.gauss_seidel(matrix,vector,G=[1,1,1,1,1],precision=1e-6 )\n",
    "print(\"The solution is \")\n",
    "print(x)"
   ]
  },
  {
   "cell_type": "code",
   "execution_count": 13,
   "id": "3c0728a7",
   "metadata": {},
   "outputs": [
    {
     "name": "stdout",
     "output_type": "stream",
     "text": [
      "The solution is \n",
      " 2.979165252852776\t\n",
      " 2.215599656814298\t\n",
      " 0.21128412696535115\t\n",
      " 0.1523170289038312\t\n",
      " 5.715033691625491\t\n",
      "\n"
     ]
    }
   ],
   "source": [
    "# Gauss Jacobi Method\n",
    "x = library.linear.gauss_jacobi(matrix,vector,precision=1e-6)\n",
    "print(\"The solution is \")\n",
    "print(x)"
   ]
  },
  {
   "cell_type": "code",
   "execution_count": 14,
   "id": "17074c09",
   "metadata": {},
   "outputs": [
    {
     "name": "stdout",
     "output_type": "stream",
     "text": [
      "Solution-\n",
      "[2.97916519278387, 2.2155995755217543, 0.2112840466926071, 0.15231694375663235, 5.715033604527768]\n"
     ]
    }
   ],
   "source": [
    "#LU Decomposition\n",
    "vector = list(map(lambda x: x[0], vector.matrix))\n",
    "x,y = library.linear.lu_solver(matrix,vector)\n",
    "print(\"Solution-\")\n",
    "print(x)"
   ]
  }
 ],
 "metadata": {
  "kernelspec": {
   "display_name": "Python 3",
   "language": "python",
   "name": "python3"
  },
  "language_info": {
   "codemirror_mode": {
    "name": "ipython",
    "version": 3
   },
   "file_extension": ".py",
   "mimetype": "text/x-python",
   "name": "python",
   "nbconvert_exporter": "python",
   "pygments_lexer": "ipython3",
   "version": "3.8.8"
  }
 },
 "nbformat": 4,
 "nbformat_minor": 5
}
